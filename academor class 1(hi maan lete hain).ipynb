{
 "cells": [
  {
   "cell_type": "code",
   "execution_count": null,
   "id": "b7ead574",
   "metadata": {},
   "outputs": [],
   "source": [
    "#21-09-22"
   ]
  },
  {
   "cell_type": "code",
   "execution_count": null,
   "id": "695ac5b1",
   "metadata": {},
   "outputs": [],
   "source": [
    "x=int(input(\"number\"))"
   ]
  },
  {
   "cell_type": "code",
   "execution_count": null,
   "id": "a77b6bff",
   "metadata": {},
   "outputs": [],
   "source": [
    "print(x*x)"
   ]
  },
  {
   "cell_type": "code",
   "execution_count": null,
   "id": "1ad6d305",
   "metadata": {},
   "outputs": [],
   "source": [
    "x=input(\"number\")"
   ]
  },
  {
   "cell_type": "code",
   "execution_count": null,
   "id": "ee9d2940",
   "metadata": {},
   "outputs": [],
   "source": [
    "print(int(x)*int(x))"
   ]
  },
  {
   "cell_type": "code",
   "execution_count": null,
   "id": "b89adaec",
   "metadata": {},
   "outputs": [],
   "source": [
    "print(int(x)**2)"
   ]
  },
  {
   "cell_type": "code",
   "execution_count": null,
   "id": "378fd46b",
   "metadata": {},
   "outputs": [],
   "source": [
    "print(pow(x,2))"
   ]
  },
  {
   "cell_type": "code",
   "execution_count": null,
   "id": "b1e64342",
   "metadata": {},
   "outputs": [],
   "source": [
    "print(pow(x,1/2))#assignment(21-09-22)"
   ]
  },
  {
   "cell_type": "code",
   "execution_count": null,
   "id": "a3d0711b",
   "metadata": {},
   "outputs": [],
   "source": [
    "import cmath"
   ]
  },
  {
   "cell_type": "code",
   "execution_count": null,
   "id": "ca03d2c7",
   "metadata": {},
   "outputs": [],
   "source": [
    "a=1\n",
    "b=5\n",
    "c=6"
   ]
  },
  {
   "cell_type": "code",
   "execution_count": null,
   "id": "5e5da751",
   "metadata": {},
   "outputs": [],
   "source": [
    "#solve the quadratic eqn. ax^2+bx+c=0\n",
    "d=(b*b) - (4*a*c)\n",
    "if d==0:\n",
    "    x=-b/(2*a)\n",
    "    print (x)\n",
    "elif d>0:\n",
    "    x1=(-b+cmath.sqrt((b*b) - (4*a*c)))/(2*a)\n",
    "    x2=(-b-cmath.sqrt((b*b) - (4*a*c)))/(2*a)\n",
    "    print (x1,\" \",x2)\n"
   ]
  },
  {
   "cell_type": "code",
   "execution_count": null,
   "id": "0c12d104",
   "metadata": {},
   "outputs": [],
   "source": [
    "#no char dataytpe in python"
   ]
  },
  {
   "cell_type": "code",
   "execution_count": null,
   "id": "792ddf3c",
   "metadata": {},
   "outputs": [],
   "source": [
    "a='AbCdEfGhI'"
   ]
  },
  {
   "cell_type": "code",
   "execution_count": null,
   "id": "abd3dbaf",
   "metadata": {},
   "outputs": [],
   "source": [
    "a[0]"
   ]
  },
  {
   "cell_type": "code",
   "execution_count": null,
   "id": "61e697fe",
   "metadata": {},
   "outputs": [],
   "source": [
    "a[0:4]"
   ]
  },
  {
   "cell_type": "code",
   "execution_count": null,
   "id": "d891be3d",
   "metadata": {},
   "outputs": [],
   "source": [
    "#21-09-22"
   ]
  },
  {
   "cell_type": "code",
   "execution_count": null,
   "id": "97e820d2",
   "metadata": {},
   "outputs": [],
   "source": [
    "age=12\n",
    "if age>=18:\n",
    "    print ('eligible')\n",
    "else:\n",
    "    print (18-age)"
   ]
  },
  {
   "cell_type": "code",
   "execution_count": null,
   "id": "0af9a9ca",
   "metadata": {},
   "outputs": [],
   "source": [
    "\n",
    "while i in range(1,5):\n",
    "    print(i)\n",
    "    i+=1"
   ]
  },
  {
   "cell_type": "code",
   "execution_count": null,
   "id": "fea3c60d",
   "metadata": {},
   "outputs": [],
   "source": [
    "i=1\n",
    "while (i>5):\n",
    "    print(i)\n",
    "    i-=1"
   ]
  },
  {
   "cell_type": "code",
   "execution_count": 1,
   "id": "372e6c68",
   "metadata": {},
   "outputs": [
    {
     "name": "stdout",
     "output_type": "stream",
     "text": [
      "0\n",
      "1\n",
      "2\n",
      "3\n",
      "4\n",
      "5\n",
      "6\n",
      "7\n",
      "8\n",
      "9\n"
     ]
    }
   ],
   "source": [
    "for i in range (10):# range(1,10);10 is exclusive in both\n",
    "    print(i)"
   ]
  },
  {
   "cell_type": "code",
   "execution_count": 2,
   "id": "2ab082ef",
   "metadata": {},
   "outputs": [
    {
     "name": "stdout",
     "output_type": "stream",
     "text": [
      "1\n",
      "3\n",
      "5\n",
      "7\n",
      "9\n"
     ]
    }
   ],
   "source": [
    "for i in range(1,11,2):#(inclusive,exclusive,stepsize)\n",
    "    print (i)"
   ]
  },
  {
   "cell_type": "code",
   "execution_count": 6,
   "id": "e1e0c0d7",
   "metadata": {},
   "outputs": [
    {
     "name": "stdout",
     "output_type": "stream",
     "text": [
      "3* 1 = 3\n",
      "3* 2 = 6\n",
      "3* 3 = 9\n",
      "3* 4 = 12\n",
      "3* 5 = 15\n",
      "3* 6 = 18\n",
      "3* 7 = 21\n",
      "3* 8 = 24\n",
      "3* 9 = 27\n",
      "3* 10 = 30\n"
     ]
    }
   ],
   "source": [
    "for i in range(1,11):#(inclusive,exclusive,stepsize)\n",
    "    print (\"3*\",i,\"=\",(3*i))"
   ]
  },
  {
   "cell_type": "code",
   "execution_count": null,
   "id": "2d9cf3f2",
   "metadata": {},
   "outputs": [],
   "source": []
  }
 ],
 "metadata": {
  "kernelspec": {
   "display_name": "Python 3 (ipykernel)",
   "language": "python",
   "name": "python3"
  },
  "language_info": {
   "codemirror_mode": {
    "name": "ipython",
    "version": 3
   },
   "file_extension": ".py",
   "mimetype": "text/x-python",
   "name": "python",
   "nbconvert_exporter": "python",
   "pygments_lexer": "ipython3",
   "version": "3.9.7"
  }
 },
 "nbformat": 4,
 "nbformat_minor": 5
}
