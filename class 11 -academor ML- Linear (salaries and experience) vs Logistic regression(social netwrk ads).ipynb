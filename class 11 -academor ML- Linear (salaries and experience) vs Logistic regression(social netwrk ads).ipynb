{
 "cells": [
  {
   "cell_type": "code",
   "execution_count": 2,
   "id": "ae0e2fdd",
   "metadata": {},
   "outputs": [],
   "source": [
    "#26 oct\n",
    "#here we create our own table"
   ]
  },
  {
   "cell_type": "code",
   "execution_count": 3,
   "id": "19dfb307",
   "metadata": {},
   "outputs": [],
   "source": [
    "import matplotlib.pyplot as pkt\n",
    "import seaborn as sns\n",
    "import numpy as np\n",
    "import pandas as pd"
   ]
  },
  {
   "cell_type": "code",
   "execution_count": 4,
   "id": "0049c557",
   "metadata": {},
   "outputs": [
    {
     "name": "stdout",
     "output_type": "stream",
     "text": [
      "[ 1  2  3  4  5  6  7  8  9 10]\n"
     ]
    }
   ],
   "source": [
    "experience=np.arange(1,11)\n",
    "print(experience)"
   ]
  },
  {
   "cell_type": "code",
   "execution_count": 5,
   "id": "5b50a12a",
   "metadata": {},
   "outputs": [],
   "source": [
    "np.random.seed(35)#used to keep values constant (???????????????????????????????????????????????????????)"
   ]
  },
  {
   "cell_type": "markdown",
   "id": "fe66314c",
   "metadata": {},
   "source": [
    "random array creation with size and range"
   ]
  },
  {
   "cell_type": "code",
   "execution_count": 6,
   "id": "add28f76",
   "metadata": {},
   "outputs": [
    {
     "name": "stdout",
     "output_type": "stream",
     "text": [
      "[15833 19399 22472 23963 25808 29391 29705 45560 46491 47433]\n"
     ]
    }
   ],
   "source": [
    "salaries=np.random.randint(10000,50000,10)\n",
    "salaries=np.sort(salaries)\n",
    "print(salaries)"
   ]
  },
  {
   "cell_type": "code",
   "execution_count": 7,
   "id": "bd1e5388",
   "metadata": {},
   "outputs": [
    {
     "name": "stdout",
     "output_type": "stream",
     "text": [
      "[ 1  2  3  4  5  6  7  8  9 10] \t [15833 19399 22472 23963 25808 29391 29705 45560 46491 47433]\n"
     ]
    }
   ],
   "source": [
    "print(experience,\"\\t\",salaries)"
   ]
  },
  {
   "cell_type": "code",
   "execution_count": 9,
   "id": "c602d004",
   "metadata": {},
   "outputs": [
    {
     "data": {
      "text/plain": [
       "numpy.ndarray"
      ]
     },
     "execution_count": 9,
     "metadata": {},
     "output_type": "execute_result"
    }
   ],
   "source": [
    "type(salaries)"
   ]
  },
  {
   "cell_type": "code",
   "execution_count": 10,
   "id": "43d5bdc7",
   "metadata": {},
   "outputs": [],
   "source": [
    "#step 2 not performing due to limited data"
   ]
  },
  {
   "cell_type": "code",
   "execution_count": 12,
   "id": "43e6b49e",
   "metadata": {},
   "outputs": [
    {
     "data": {
      "text/plain": [
       "<matplotlib.collections.PathCollection at 0x249eb19e460>"
      ]
     },
     "execution_count": 12,
     "metadata": {},
     "output_type": "execute_result"
    },
    {
     "data": {
      "image/png": "[encoded data removed]",
      "text/plain": [
       "<Figure size 432x288 with 1 Axes>"
      ]
     },
     "metadata": {
      "needs_background": "light"
     },
     "output_type": "display_data"
    }
   ],
   "source": [
    "#visualisation\n",
    "import matplotlib.pyplot as plt\n",
    "plt.scatter(experience,salaries)"
   ]
  },
  {
   "cell_type": "code",
   "execution_count": 14,
   "id": "b5ac85b2",
   "metadata": {},
   "outputs": [
    {
     "data": {
      "text/plain": [
       "array([[ 1],\n",
       "       [ 2],\n",
       "       [ 3],\n",
       "       [ 4],\n",
       "       [ 5],\n",
       "       [ 6],\n",
       "       [ 7],\n",
       "       [ 8],\n",
       "       [ 9],\n",
       "       [10]])"
      ]
     },
     "execution_count": 14,
     "metadata": {},
     "output_type": "execute_result"
    }
   ],
   "source": [
    "# step 4- divide data into ip and op\n",
    "#ip always 2d\n",
    "x=experience.reshape(-1,1)\n",
    "x\n",
    "#"
   ]
  },
  {
   "cell_type": "code",
   "execution_count": 51,
   "id": "306a755b",
   "metadata": {},
   "outputs": [
    {
     "data": {
      "text/plain": [
       "array([15833, 19399, 22472, 23963, 25808, 29391, 29705, 45560, 46491,\n",
       "       47433])"
      ]
     },
     "execution_count": 51,
     "metadata": {},
     "output_type": "execute_result"
    }
   ],
   "source": [
    "y=salaries\n",
    "y"
   ]
  },
  {
   "cell_type": "code",
   "execution_count": 18,
   "id": "c37d9b45",
   "metadata": {},
   "outputs": [],
   "source": [
    "#step 5 - limited data\n",
    "#step 6 not necessary\n"
   ]
  },
  {
   "cell_type": "code",
   "execution_count": 21,
   "id": "981bdf7e",
   "metadata": {},
   "outputs": [],
   "source": [
    "#step 7:run a classifier,regressorer or clusterer (APPLY SUITABLE ALGO)\n",
    "# this is a package(collection of libraries) \n",
    "\n",
    "from sklearn.linear_model import LinearRegression\n",
    "#linearRegression -library\n",
    "\n",
    "model=LinearRegression() #now this library is treated as a function"
   ]
  },
  {
   "cell_type": "code",
   "execution_count": 22,
   "id": "0295a7e9",
   "metadata": {},
   "outputs": [
    {
     "data": {
      "text/html": [
       "<style>#sk-container-id-2 {color: black;background-color: white;}#sk-container-id-2 pre{padding: 0;}#sk-container-id-2 div.sk-toggleable {background-color: white;}#sk-container-id-2 label.sk-toggleable__label {cursor: pointer;display: block;width: 100%;margin-bottom: 0;padding: 0.3em;box-sizing: border-box;text-align: center;}#sk-container-id-2 label.sk-toggleable__label-arrow:before {content: \"▸\";float: left;margin-right: 0.25em;color: #696969;}#sk-container-id-2 label.sk-toggleable__label-arrow:hover:before {color: black;}#sk-container-id-2 div.sk-estimator:hover label.sk-toggleable__label-arrow:before {color: black;}#sk-container-id-2 div.sk-toggleable__content {max-height: 0;max-width: 0;overflow: hidden;text-align: left;background-color: #f0f8ff;}#sk-container-id-2 div.sk-toggleable__content pre {margin: 0.2em;color: black;border-radius: 0.25em;background-color: #f0f8ff;}#sk-container-id-2 input.sk-toggleable__control:checked~div.sk-toggleable__content {max-height: 200px;max-width: 100%;overflow: auto;}#sk-container-id-2 input.sk-toggleable__control:checked~label.sk-toggleable__label-arrow:before {content: \"▾\";}#sk-container-id-2 div.sk-estimator input.sk-toggleable__control:checked~label.sk-toggleable__label {background-color: #d4ebff;}#sk-container-id-2 div.sk-label input.sk-toggleable__control:checked~label.sk-toggleable__label {background-color: #d4ebff;}#sk-container-id-2 input.sk-hidden--visually {border: 0;clip: rect(1px 1px 1px 1px);clip: rect(1px, 1px, 1px, 1px);height: 1px;margin: -1px;overflow: hidden;padding: 0;position: absolute;width: 1px;}#sk-container-id-2 div.sk-estimator {font-family: monospace;background-color: #f0f8ff;border: 1px dotted black;border-radius: 0.25em;box-sizing: border-box;margin-bottom: 0.5em;}#sk-container-id-2 div.sk-estimator:hover {background-color: #d4ebff;}#sk-container-id-2 div.sk-parallel-item::after {content: \"\";width: 100%;border-bottom: 1px solid gray;flex-grow: 1;}#sk-container-id-2 div.sk-label:hover label.sk-toggleable__label {background-color: #d4ebff;}#sk-container-id-2 div.sk-serial::before {content: \"\";position: absolute;border-left: 1px solid gray;box-sizing: border-box;top: 0;bottom: 0;left: 50%;z-index: 0;}#sk-container-id-2 div.sk-serial {display: flex;flex-direction: column;align-items: center;background-color: white;padding-right: 0.2em;padding-left: 0.2em;position: relative;}#sk-container-id-2 div.sk-item {position: relative;z-index: 1;}#sk-container-id-2 div.sk-parallel {display: flex;align-items: stretch;justify-content: center;background-color: white;position: relative;}#sk-container-id-2 div.sk-item::before, #sk-container-id-2 div.sk-parallel-item::before {content: \"\";position: absolute;border-left: 1px solid gray;box-sizing: border-box;top: 0;bottom: 0;left: 50%;z-index: -1;}#sk-container-id-2 div.sk-parallel-item {display: flex;flex-direction: column;z-index: 1;position: relative;background-color: white;}#sk-container-id-2 div.sk-parallel-item:first-child::after {align-self: flex-end;width: 50%;}#sk-container-id-2 div.sk-parallel-item:last-child::after {align-self: flex-start;width: 50%;}#sk-container-id-2 div.sk-parallel-item:only-child::after {width: 0;}#sk-container-id-2 div.sk-dashed-wrapped {border: 1px dashed gray;margin: 0 0.4em 0.5em 0.4em;box-sizing: border-box;padding-bottom: 0.4em;background-color: white;}#sk-container-id-2 div.sk-label label {font-family: monospace;font-weight: bold;display: inline-block;line-height: 1.2em;}#sk-container-id-2 div.sk-label-container {text-align: center;}#sk-container-id-2 div.sk-container {/* jupyter's `normalize.less` sets `[hidden] { display: none; }` but bootstrap.min.css set `[hidden] { display: none !important; }` so we also need the `!important` here to be able to override the default hidden behavior on the sphinx rendered scikit-learn.org. See: https://github.com/scikit-learn/scikit-learn/issues/21755 */display: inline-block !important;position: relative;}#sk-container-id-2 div.sk-text-repr-fallback {display: none;}</style><div id=\"sk-container-id-2\" class=\"sk-top-container\"><div class=\"sk-text-repr-fallback\"><pre>LinearRegression()</pre><b>In a Jupyter environment, please rerun this cell to show the HTML representation or trust the notebook. <br />On GitHub, the HTML representation is unable to render, please try loading this page with nbviewer.org.</b></div><div class=\"sk-container\" hidden><div class=\"sk-item\"><div class=\"sk-estimator sk-toggleable\"><input class=\"sk-toggleable__control sk-hidden--visually\" id=\"sk-estimator-id-2\" type=\"checkbox\" checked><label for=\"sk-estimator-id-2\" class=\"sk-toggleable__label sk-toggleable__label-arrow\">LinearRegression</label><div class=\"sk-toggleable__content\"><pre>LinearRegression()</pre></div></div></div></div></div>"
      ],
      "text/plain": [
       "LinearRegression()"
      ]
     },
     "execution_count": 22,
     "metadata": {},
     "output_type": "execute_result"
    }
   ],
   "source": [
    "model.fit(x,y)"
   ]
  },
  {
   "cell_type": "code",
   "execution_count": 31,
   "id": "1b80f73d",
   "metadata": {},
   "outputs": [],
   "source": [
    "#step 9- predict the output\n",
    "#using input values, predict op"
   ]
  },
  {
   "cell_type": "code",
   "execution_count": 32,
   "id": "d88ddbce",
   "metadata": {},
   "outputs": [
    {
     "data": {
      "text/plain": [
       "array([13961.14545455, 17659.89090909, 21358.63636364, 25057.38181818,\n",
       "       28756.12727273, 32454.87272727, 36153.61818182, 39852.36363636,\n",
       "       43551.10909091, 47249.85454545])"
      ]
     },
     "execution_count": 32,
     "metadata": {},
     "output_type": "execute_result"
    }
   ],
   "source": [
    "y_pred=model.predict(x)\n",
    "y_pred"
   ]
  },
  {
   "cell_type": "code",
   "execution_count": 33,
   "id": "c6dfa448",
   "metadata": {},
   "outputs": [
    {
     "data": {
      "text/plain": [
       "array([32454.87272727])"
      ]
     },
     "execution_count": 33,
     "metadata": {},
     "output_type": "execute_result"
    }
   ],
   "source": [
    "model.predict([[6]])"
   ]
  },
  {
   "cell_type": "code",
   "execution_count": 34,
   "id": "0b79a209",
   "metadata": {},
   "outputs": [
    {
     "name": "stdout",
     "output_type": "stream",
     "text": [
      "10   10\n"
     ]
    }
   ],
   "source": [
    "print(len(y),\" \",len(y_pred))"
   ]
  },
  {
   "cell_type": "code",
   "execution_count": 44,
   "id": "3c912edf",
   "metadata": {},
   "outputs": [
    {
     "data": {
      "text/plain": [
       "array([13961.14545455, 17659.89090909, 21358.63636364, 25057.38181818,\n",
       "       28756.12727273, 32454.87272727, 36153.61818182, 39852.36363636,\n",
       "       43551.10909091, 47249.85454545])"
      ]
     },
     "execution_count": 44,
     "metadata": {},
     "output_type": "execute_result"
    }
   ],
   "source": [
    "y_pred\n",
    "y_pred[1]"
   ]
  },
  {
   "cell_type": "code",
   "execution_count": 53,
   "id": "697f9d93",
   "metadata": {},
   "outputs": [
    {
     "name": "stdout",
     "output_type": "stream",
     "text": [
      "predicted for  1  is  13961.145454545453\n",
      "actual for  1  is  15833\n",
      "error is  -1871.8545454545474\n",
      " \n",
      "predicted for  2  is  17659.890909090907\n",
      "actual for  2  is  19399\n",
      "error is  -1739.1090909090926\n",
      " \n",
      "predicted for  3  is  21358.63636363636\n",
      "actual for  3  is  22472\n",
      "error is  -1113.3636363636397\n",
      " \n",
      "predicted for  4  is  25057.381818181817\n",
      "actual for  4  is  23963\n",
      "error is  1094.381818181817\n",
      " \n",
      "predicted for  5  is  28756.12727272727\n",
      "actual for  5  is  25808\n",
      "error is  2948.12727272727\n",
      " \n",
      "predicted for  6  is  32454.872727272726\n",
      "actual for  6  is  29391\n",
      "error is  3063.8727272727265\n",
      " \n",
      "predicted for  7  is  36153.61818181818\n",
      "actual for  7  is  29705\n",
      "error is  6448.618181818179\n",
      " \n",
      "predicted for  8  is  39852.36363636363\n",
      "actual for  8  is  45560\n",
      "error is  -5707.636363636368\n",
      " \n",
      "predicted for  9  is  43551.109090909085\n",
      "actual for  9  is  46491\n",
      "error is  -2939.8909090909146\n",
      " \n",
      "predicted for  10  is  47249.85454545454\n",
      "actual for  10  is  47433\n",
      "error is  -183.1454545454617\n",
      " \n"
     ]
    }
   ],
   "source": [
    "for i in x:\n",
    "    print(\"predicted for \",i[0],\" is \",(model.predict([i]))[0])\n",
    "    print(\"actual for \",i[0],\" is \",y[(i-1)[0]])\n",
    "    print(\"error is \",(model.predict([i])-y[(i-1)[0]])[0])\n",
    "    print(\" \")"
   ]
  },
  {
   "cell_type": "markdown",
   "id": "ab1d02ca",
   "metadata": {},
   "source": [
    "model is not that linear\n",
    "\n",
    "\n"
   ]
  },
  {
   "cell_type": "markdown",
   "id": "a1050833",
   "metadata": {},
   "source": [
    "# INDIVIDUAL PREDICTION"
   ]
  },
  {
   "cell_type": "code",
   "execution_count": 54,
   "id": "9b035d4e",
   "metadata": {},
   "outputs": [
    {
     "data": {
      "text/plain": [
       "array([29865.75090909])"
      ]
     },
     "execution_count": 54,
     "metadata": {},
     "output_type": "execute_result"
    }
   ],
   "source": [
    "model.predict([[5.3]])"
   ]
  },
  {
   "cell_type": "markdown",
   "id": "065562dc",
   "metadata": {},
   "source": [
    "cross verification"
   ]
  },
  {
   "cell_type": "code",
   "execution_count": 56,
   "id": "e3477105",
   "metadata": {},
   "outputs": [],
   "source": [
    "m=model.coef_\n",
    "c=model.intercept_"
   ]
  },
  {
   "cell_type": "code",
   "execution_count": 57,
   "id": "8b3f6ef0",
   "metadata": {},
   "outputs": [
    {
     "name": "stdout",
     "output_type": "stream",
     "text": [
      "[3698.74545455]   10262.399999999998\n"
     ]
    }
   ],
   "source": [
    "print(m,\" \",c)"
   ]
  },
  {
   "cell_type": "code",
   "execution_count": 58,
   "id": "cf664550",
   "metadata": {},
   "outputs": [
    {
     "name": "stdout",
     "output_type": "stream",
     "text": [
      "[29865.75090909]\n"
     ]
    }
   ],
   "source": [
    "print(m*5.3+c)"
   ]
  },
  {
   "cell_type": "code",
   "execution_count": 59,
   "id": "8ab88eab",
   "metadata": {},
   "outputs": [],
   "source": [
    "#model ek dum sahi iske hisab se"
   ]
  },
  {
   "cell_type": "markdown",
   "id": "70317930",
   "metadata": {},
   "source": [
    "## visualisation for best fit line"
   ]
  },
  {
   "cell_type": "code",
   "execution_count": 62,
   "id": "0d9fd92c",
   "metadata": {},
   "outputs": [
    {
     "data": {
      "text/plain": [
       "Text(0.5, 0, 'experience')"
      ]
     },
     "execution_count": 62,
     "metadata": {},
     "output_type": "execute_result"
    },
    {
     "data": {
      "image/png": "[encoded data removed]",
      "text/plain": [
       "<Figure size 432x288 with 1 Axes>"
      ]
     },
     "metadata": {
      "needs_background": "light"
     },
     "output_type": "display_data"
    }
   ],
   "source": [
    "plt.scatter(x,y)\n",
    "plt.plot(x,y_pred,c='pink')\n",
    "plt.ylabel('salary')\n",
    "plt.xlabel('experience')\n",
    "#plt.legend()"
   ]
  },
  {
   "cell_type": "markdown",
   "id": "315edfcb",
   "metadata": {},
   "source": [
    "# step 6-scaling / normalisation\n"
   ]
  },
  {
   "cell_type": "markdown",
   "id": "2b82ff0e",
   "metadata": {},
   "source": [
    "6a. before normalisation"
   ]
  },
  {
   "cell_type": "code",
   "execution_count": 68,
   "id": "a24c573e",
   "metadata": {},
   "outputs": [
    {
     "data": {
      "text/plain": [
       "array([ 1,  2,  4,  4,  6,  7,  9, 10, 10, 13, 14, 17, 18, 20, 21, 22, 24,\n",
       "       24, 25, 25, 25, 26, 37, 38, 39, 40, 40, 45, 47, 48])"
      ]
     },
     "execution_count": 68,
     "metadata": {},
     "output_type": "execute_result"
    }
   ],
   "source": [
    "np.random.seed(0)#keep values constant\n",
    "x1=np.random.randint(1,50,30)\n",
    "x1=np.sort(x1)\n",
    "x1"
   ]
  },
  {
   "cell_type": "code",
   "execution_count": 76,
   "id": "60624b0e",
   "metadata": {},
   "outputs": [],
   "source": [
    "y1=np.sort(np.random.randint(10000,100000,30))\n"
   ]
  },
  {
   "cell_type": "code",
   "execution_count": 77,
   "id": "205fcdfd",
   "metadata": {
    "scrolled": true
   },
   "outputs": [
    {
     "data": {
      "text/plain": [
       "array([13918, 14420, 17012, 18752, 19359, 19396, 19781, 22134, 22372,\n",
       "       25127, 26298, 29340, 30737, 33482, 37257, 38647, 47237, 54259,\n",
       "       57883, 61811, 70535, 71353, 72079, 73360, 89701, 89860, 90041,\n",
       "       90163, 92991, 96107])"
      ]
     },
     "execution_count": 77,
     "metadata": {},
     "output_type": "execute_result"
    }
   ],
   "source": [
    "y1"
   ]
  },
  {
   "cell_type": "code",
   "execution_count": 78,
   "id": "3fd233be",
   "metadata": {
    "scrolled": false
   },
   "outputs": [
    {
     "data": {
      "text/plain": [
       "[<matplotlib.lines.Line2D at 0x249ec1ea0d0>]"
      ]
     },
     "execution_count": 78,
     "metadata": {},
     "output_type": "execute_result"
    },
    {
     "data": {
      "image/png": "[encoded data removed]",
      "text/plain": [
       "<Figure size 432x288 with 1 Axes>"
      ]
     },
     "metadata": {
      "needs_background": "light"
     },
     "output_type": "display_data"
    }
   ],
   "source": [
    "plt.plot(x1,y1)"
   ]
  },
  {
   "cell_type": "code",
   "execution_count": null,
   "id": "1d44f92b",
   "metadata": {},
   "outputs": [],
   "source": []
  },
  {
   "cell_type": "code",
   "execution_count": null,
   "id": "8327e3a7",
   "metadata": {},
   "outputs": [],
   "source": []
  },
  {
   "cell_type": "code",
   "execution_count": null,
   "id": "d85b5b4e",
   "metadata": {},
   "outputs": [],
   "source": []
  },
  {
   "cell_type": "markdown",
   "id": "c21801a8",
   "metadata": {},
   "source": [
    "6b. after normalisation"
   ]
  },
  {
   "cell_type": "code",
   "execution_count": 79,
   "id": "bd5ca867",
   "metadata": {},
   "outputs": [
    {
     "name": "stdout",
     "output_type": "stream",
     "text": [
      "1   48   13918   96107\n"
     ]
    }
   ],
   "source": [
    "x1min=np.min(x1)\n",
    "x1max=np.max(x1)\n",
    "y1min=np.min(y1)\n",
    "y1max=np.max(y1)\n",
    "print(x1min,\" \",x1max,\" \",y1min,\" \",y1max)"
   ]
  },
  {
   "cell_type": "code",
   "execution_count": 80,
   "id": "a54c5f84",
   "metadata": {},
   "outputs": [],
   "source": [
    "x1norm=(x1-x1min)/(x1max-x1min)"
   ]
  },
  {
   "cell_type": "code",
   "execution_count": 82,
   "id": "20dc4055",
   "metadata": {},
   "outputs": [],
   "source": [
    "y1norm=(y1-y1min)/(y1max-y1min)"
   ]
  },
  {
   "cell_type": "code",
   "execution_count": 84,
   "id": "5364e958",
   "metadata": {},
   "outputs": [
    {
     "data": {
      "text/plain": [
       "[<matplotlib.lines.Line2D at 0x249ec23df70>]"
      ]
     },
     "execution_count": 84,
     "metadata": {},
     "output_type": "execute_result"
    },
    {
     "data": {
      "image/png": "[encoded data removed]",
      "text/plain": [
       "<Figure size 432x288 with 1 Axes>"
      ]
     },
     "metadata": {
      "needs_background": "light"
     },
     "output_type": "display_data"
    }
   ],
   "source": [
    "plt.plot(x1norm,y1norm)"
   ]
  },
  {
   "cell_type": "code",
   "execution_count": 85,
   "id": "ab6be9ce",
   "metadata": {},
   "outputs": [],
   "source": [
    "#we understand how scaling or normalisation works. step size is same"
   ]
  },
  {
   "cell_type": "markdown",
   "id": "5cd68a9e",
   "metadata": {},
   "source": [
    "# LOGISTIC REGRESSING- clasification technique ; supervised model"
   ]
  },
  {
   "cell_type": "markdown",
   "id": "8e78c7d5",
   "metadata": {},
   "source": [
    "classifies data - 0 or 1, true or false , detected or not detected, car or bike,tea or coffee etc\n",
    "in some cases, 3 classes too"
   ]
  },
  {
   "cell_type": "code",
   "execution_count": 88,
   "id": "4c256154",
   "metadata": {},
   "outputs": [],
   "source": [
    "df=pd.read_csv('https://raw.githubusercontent.com/ameenmanna8824/DATASETS/main/Social_Network_Ads.csv')"
   ]
  },
  {
   "cell_type": "code",
   "execution_count": 89,
   "id": "7aaaefaa",
   "metadata": {},
   "outputs": [
    {
     "data": {
      "text/html": [
       "<div>\n",
       "<style scoped>\n",
       "    .dataframe tbody tr th:only-of-type {\n",
       "        vertical-align: middle;\n",
       "    }\n",
       "\n",
       "    .dataframe tbody tr th {\n",
       "        vertical-align: top;\n",
       "    }\n",
       "\n",
       "    .dataframe thead th {\n",
       "        text-align: right;\n",
       "    }\n",
       "</style>\n",
       "<table border=\"1\" class=\"dataframe\">\n",
       "  <thead>\n",
       "    <tr style=\"text-align: right;\">\n",
       "      <th></th>\n",
       "      <th>User ID</th>\n",
       "      <th>Gender</th>\n",
       "      <th>Age</th>\n",
       "      <th>EstimatedSalary</th>\n",
       "      <th>Purchased</th>\n",
       "    </tr>\n",
       "  </thead>\n",
       "  <tbody>\n",
       "    <tr>\n",
       "      <th>0</th>\n",
       "      <td>15624510</td>\n",
       "      <td>Male</td>\n",
       "      <td>19</td>\n",
       "      <td>19000</td>\n",
       "      <td>0</td>\n",
       "    </tr>\n",
       "    <tr>\n",
       "      <th>1</th>\n",
       "      <td>15810944</td>\n",
       "      <td>Male</td>\n",
       "      <td>35</td>\n",
       "      <td>20000</td>\n",
       "      <td>0</td>\n",
       "    </tr>\n",
       "    <tr>\n",
       "      <th>2</th>\n",
       "      <td>15668575</td>\n",
       "      <td>Female</td>\n",
       "      <td>26</td>\n",
       "      <td>43000</td>\n",
       "      <td>0</td>\n",
       "    </tr>\n",
       "    <tr>\n",
       "      <th>3</th>\n",
       "      <td>15603246</td>\n",
       "      <td>Female</td>\n",
       "      <td>27</td>\n",
       "      <td>57000</td>\n",
       "      <td>0</td>\n",
       "    </tr>\n",
       "    <tr>\n",
       "      <th>4</th>\n",
       "      <td>15804002</td>\n",
       "      <td>Male</td>\n",
       "      <td>19</td>\n",
       "      <td>76000</td>\n",
       "      <td>0</td>\n",
       "    </tr>\n",
       "    <tr>\n",
       "      <th>...</th>\n",
       "      <td>...</td>\n",
       "      <td>...</td>\n",
       "      <td>...</td>\n",
       "      <td>...</td>\n",
       "      <td>...</td>\n",
       "    </tr>\n",
       "    <tr>\n",
       "      <th>395</th>\n",
       "      <td>15691863</td>\n",
       "      <td>Female</td>\n",
       "      <td>46</td>\n",
       "      <td>41000</td>\n",
       "      <td>1</td>\n",
       "    </tr>\n",
       "    <tr>\n",
       "      <th>396</th>\n",
       "      <td>15706071</td>\n",
       "      <td>Male</td>\n",
       "      <td>51</td>\n",
       "      <td>23000</td>\n",
       "      <td>1</td>\n",
       "    </tr>\n",
       "    <tr>\n",
       "      <th>397</th>\n",
       "      <td>15654296</td>\n",
       "      <td>Female</td>\n",
       "      <td>50</td>\n",
       "      <td>20000</td>\n",
       "      <td>1</td>\n",
       "    </tr>\n",
       "    <tr>\n",
       "      <th>398</th>\n",
       "      <td>15755018</td>\n",
       "      <td>Male</td>\n",
       "      <td>36</td>\n",
       "      <td>33000</td>\n",
       "      <td>0</td>\n",
       "    </tr>\n",
       "    <tr>\n",
       "      <th>399</th>\n",
       "      <td>15594041</td>\n",
       "      <td>Female</td>\n",
       "      <td>49</td>\n",
       "      <td>36000</td>\n",
       "      <td>1</td>\n",
       "    </tr>\n",
       "  </tbody>\n",
       "</table>\n",
       "<p>400 rows × 5 columns</p>\n",
       "</div>"
      ],
      "text/plain": [
       "      User ID  Gender  Age  EstimatedSalary  Purchased\n",
       "0    15624510    Male   19            19000          0\n",
       "1    15810944    Male   35            20000          0\n",
       "2    15668575  Female   26            43000          0\n",
       "3    15603246  Female   27            57000          0\n",
       "4    15804002    Male   19            76000          0\n",
       "..        ...     ...  ...              ...        ...\n",
       "395  15691863  Female   46            41000          1\n",
       "396  15706071    Male   51            23000          1\n",
       "397  15654296  Female   50            20000          1\n",
       "398  15755018    Male   36            33000          0\n",
       "399  15594041  Female   49            36000          1\n",
       "\n",
       "[400 rows x 5 columns]"
      ]
     },
     "execution_count": 89,
     "metadata": {},
     "output_type": "execute_result"
    }
   ],
   "source": [
    "df"
   ]
  },
  {
   "cell_type": "code",
   "execution_count": 90,
   "id": "5c91645d",
   "metadata": {},
   "outputs": [
    {
     "name": "stdout",
     "output_type": "stream",
     "text": [
      "<class 'pandas.core.frame.DataFrame'>\n",
      "RangeIndex: 400 entries, 0 to 399\n",
      "Data columns (total 5 columns):\n",
      " #   Column           Non-Null Count  Dtype \n",
      "---  ------           --------------  ----- \n",
      " 0   User ID          400 non-null    int64 \n",
      " 1   Gender           400 non-null    object\n",
      " 2   Age              400 non-null    int64 \n",
      " 3   EstimatedSalary  400 non-null    int64 \n",
      " 4   Purchased        400 non-null    int64 \n",
      "dtypes: int64(4), object(1)\n",
      "memory usage: 15.8+ KB\n"
     ]
    }
   ],
   "source": [
    "df.info()"
   ]
  },
  {
   "cell_type": "code",
   "execution_count": 91,
   "id": "ba203eac",
   "metadata": {},
   "outputs": [],
   "source": [
    "\n",
    "\n",
    "\n",
    "\n",
    "#ip-age and estimated salary\n",
    "#op-purchased: has 2 values"
   ]
  },
  {
   "cell_type": "code",
   "execution_count": null,
   "id": "2287227c",
   "metadata": {},
   "outputs": [],
   "source": []
  }
 ],
 "metadata": {
  "kernelspec": {
   "display_name": "Python 3 (ipykernel)",
   "language": "python",
   "name": "python3"
  },
  "language_info": {
   "codemirror_mode": {
    "name": "ipython",
    "version": 3
   },
   "file_extension": ".py",
   "mimetype": "text/x-python",
   "name": "python",
   "nbconvert_exporter": "python",
   "pygments_lexer": "ipython3",
   "version": "3.9.7"
  }
 },
 "nbformat": 4,
 "nbformat_minor": 5
}
